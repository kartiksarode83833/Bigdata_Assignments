{
 "cells": [
  {
   "cell_type": "code",
   "execution_count": null,
   "metadata": {
    "application/vnd.databricks.v1+cell": {
     "cellMetadata": {
      "byteLimit": 2048000,
      "rowLimit": 10000
     },
     "inputWidgets": {},
     "nuid": "8c8a7c7d-5dd7-4d0b-8b40-98fb9eac93e4",
     "showTitle": false,
     "title": ""
    }
   },
   "outputs": [],
   "source": [
    "from pyspark.sql.functions import *"
   ]
  },
  {
   "cell_type": "code",
   "execution_count": null,
   "metadata": {
    "application/vnd.databricks.v1+cell": {
     "cellMetadata": {
      "byteLimit": 2048000,
      "rowLimit": 10000
     },
     "inputWidgets": {},
     "nuid": "eb65bbf3-5d25-4559-b3dd-f0da2ddeff59",
     "showTitle": false,
     "title": ""
    }
   },
   "outputs": [],
   "source": [
    "filepath = '/FileStore/tables/fire_data/'"
   ]
  },
  {
   "cell_type": "code",
   "execution_count": null,
   "metadata": {
    "application/vnd.databricks.v1+cell": {
     "cellMetadata": {
      "byteLimit": 2048000,
      "rowLimit": 10000
     },
     "inputWidgets": {},
     "nuid": "fc173924-380d-440a-a670-19c8e399b12b",
     "showTitle": false,
     "title": ""
    }
   },
   "outputs": [],
   "source": [
    "schema1 = \"call_no BIGINT,\\\n",
    "    unit_id STRING,\\\n",
    "    incident_no BIGINT,\\\n",
    "    call_type STRING,\\\n",
    "    call_date STRING,\\\n",
    "    watch_date STRING,\\\n",
    "    received_dttm STRING,\\\n",
    "    entry_dttm STRING,\\\n",
    "    dispatch_dttm STRING,\\\n",
    "    response_dttm STRING,\\\n",
    "    onscene_dttm STRING,\\\n",
    "    transport_dttm STRING,\\\n",
    "    hospital_dttm STRING,\\\n",
    "    call_final_disp STRING,\\\n",
    "    available_dttm STRING,\\\n",
    "    address STRING,\\\n",
    "    city STRING,\\\n",
    "    zipcode INT,\\\n",
    "    battalion STRING,\\\n",
    "    station_area STRING,\\\n",
    "    box INT,\\\n",
    "    original_priority SMALLINT,\\\n",
    "    priority SMALLINT,\\\n",
    "    final_priority SMALLINT,\\\n",
    "    ALS_unit BOOLEAN,\\\n",
    "    call_type_group STRING,\\\n",
    "    no_alarms SMALLINT,\\\n",
    "    unit_type STRING,\\\n",
    "    unit_sequence SMALLINT,\\\n",
    "    fire_prevention_dist SMALLINT,\\\n",
    "    supervisor_dist SMALLINT,\\\n",
    "    neighborhoods STRING,\\\n",
    "    rowid STRING,\\\n",
    "    case_location STRING,\\\n",
    "    data_as_of STRING,\\\n",
    "    data_loaded_at STRING,\\\n",
    "    analysis_neighbourhoods SMALLINT\"\n"
   ]
  },
  {
   "cell_type": "code",
   "execution_count": null,
   "metadata": {
    "application/vnd.databricks.v1+cell": {
     "cellMetadata": {
      "byteLimit": 2048000,
      "rowLimit": 10000
     },
     "inputWidgets": {},
     "nuid": "2543d6a9-248a-42b8-b770-ee2a344c0fdb",
     "showTitle": false,
     "title": ""
    }
   },
   "outputs": [],
   "source": [
    "fire_data = spark.read\\\n",
    "    .option('header','true')\\\n",
    "        .option('nullValue','NULL')\\\n",
    "            .schema(schema1)\\\n",
    "                .csv(filepath)"
   ]
  },
  {
   "cell_type": "code",
   "execution_count": null,
   "metadata": {
    "application/vnd.databricks.v1+cell": {
     "cellMetadata": {
      "byteLimit": 2048000,
      "rowLimit": 10000
     },
     "inputWidgets": {},
     "nuid": "31c7e9be-4eef-4fac-8202-b03c2bfb7c15",
     "showTitle": false,
     "title": ""
    }
   },
   "outputs": [
    {
     "name": "stdout",
     "output_type": "stream",
     "text": [
      "root\n",
      " |-- call_no: long (nullable = true)\n",
      " |-- unit_id: string (nullable = true)\n",
      " |-- incident_no: long (nullable = true)\n",
      " |-- call_type: string (nullable = true)\n",
      " |-- call_date: string (nullable = true)\n",
      " |-- watch_date: string (nullable = true)\n",
      " |-- received_dttm: string (nullable = true)\n",
      " |-- entry_dttm: string (nullable = true)\n",
      " |-- dispatch_dttm: string (nullable = true)\n",
      " |-- response_dttm: string (nullable = true)\n",
      " |-- onscene_dttm: string (nullable = true)\n",
      " |-- transport_dttm: string (nullable = true)\n",
      " |-- hospital_dttm: string (nullable = true)\n",
      " |-- call_final_disp: string (nullable = true)\n",
      " |-- available_dttm: string (nullable = true)\n",
      " |-- address: string (nullable = true)\n",
      " |-- city: string (nullable = true)\n",
      " |-- zipcode: integer (nullable = true)\n",
      " |-- battalion: string (nullable = true)\n",
      " |-- station_area: string (nullable = true)\n",
      " |-- box: integer (nullable = true)\n",
      " |-- original_priority: short (nullable = true)\n",
      " |-- priority: short (nullable = true)\n",
      " |-- final_priority: short (nullable = true)\n",
      " |-- ALS_unit: boolean (nullable = true)\n",
      " |-- call_type_group: string (nullable = true)\n",
      " |-- no_alarms: short (nullable = true)\n",
      " |-- unit_type: string (nullable = true)\n",
      " |-- unit_sequence: short (nullable = true)\n",
      " |-- fire_prevention_dist: short (nullable = true)\n",
      " |-- supervisor_dist: short (nullable = true)\n",
      " |-- neighborhoods: string (nullable = true)\n",
      " |-- rowid: string (nullable = true)\n",
      " |-- case_location: string (nullable = true)\n",
      " |-- data_as_of: string (nullable = true)\n",
      " |-- data_loaded_at: string (nullable = true)\n",
      " |-- analysis_neighbourhoods: short (nullable = true)\n",
      "\n"
     ]
    }
   ],
   "source": [
    "fire_data.printSchema()"
   ]
  },
  {
   "cell_type": "code",
   "execution_count": null,
   "metadata": {
    "application/vnd.databricks.v1+cell": {
     "cellMetadata": {
      "byteLimit": 2048000,
      "rowLimit": 10000
     },
     "inputWidgets": {},
     "nuid": "dc3953a7-ffab-44b5-ba28-00c7192810bf",
     "showTitle": false,
     "title": ""
    }
   },
   "outputs": [],
   "source": [
    "fire_data = fire_data.withColumn('response_ts',to_timestamp(fire_data['response_dttm'],'MM/dd/yyyy hh:mm:ss a'))\n",
    "fire_data = fire_data.withColumn('received_ts',to_timestamp(fire_data['received_dttm'],'MM/dd/yyyy hh:mm:ss a'))\n",
    "fire_data = fire_data.withColumn('call_date_ts',to_timestamp(fire_data['call_date'],'MM/dd/yyyy'))"
   ]
  },
  {
   "cell_type": "code",
   "execution_count": null,
   "metadata": {
    "application/vnd.databricks.v1+cell": {
     "cellMetadata": {
      "byteLimit": 2048000,
      "rowLimit": 10000
     },
     "inputWidgets": {},
     "nuid": "a00cec34-98a1-4ca8-9af4-9e3549b7ede4",
     "showTitle": false,
     "title": ""
    }
   },
   "outputs": [],
   "source": [
    "fire_data.createOrReplaceTempView(\"v_fire\")"
   ]
  },
  {
   "cell_type": "code",
   "execution_count": null,
   "metadata": {
    "application/vnd.databricks.v1+cell": {
     "cellMetadata": {
      "byteLimit": 2048000,
      "implicitDf": true,
      "rowLimit": 10000
     },
     "inputWidgets": {},
     "nuid": "560c7129-2497-45b7-a092-1d5036cd1997",
     "showTitle": false,
     "title": ""
    }
   },
   "outputs": [
    {
     "data": {
      "text/html": [
       "<style scoped>\n",
       "  .table-result-container {\n",
       "    max-height: 300px;\n",
       "    overflow: auto;\n",
       "  }\n",
       "  table, th, td {\n",
       "    border: 1px solid black;\n",
       "    border-collapse: collapse;\n",
       "  }\n",
       "  th, td {\n",
       "    padding: 5px;\n",
       "  }\n",
       "  th {\n",
       "    text-align: left;\n",
       "  }\n",
       "</style><div class='table-result-container'><table class='table-result'><thead style='background-color: white'><tr><th>cnt</th></tr></thead><tbody><tr><td>32</td></tr></tbody></table></div>"
      ]
     },
     "metadata": {
      "application/vnd.databricks.v1+output": {
       "addedWidgets": {},
       "aggData": [],
       "aggError": "",
       "aggOverflow": false,
       "aggSchema": [],
       "aggSeriesLimitReached": false,
       "aggType": "",
       "arguments": {},
       "columnCustomDisplayInfos": {},
       "data": [
        [
         32
        ]
       ],
       "datasetInfos": [],
       "dbfsResultPath": null,
       "isJsonSchema": true,
       "metadata": {
        "dataframeName": "_sqldf",
        "executionCount": 16
       },
       "overflow": false,
       "plotOptions": {
        "customPlotOptions": {},
        "displayType": "table",
        "pivotAggregation": null,
        "pivotColumns": null,
        "xColumns": null,
        "yColumns": null
       },
       "removedWidgets": [],
       "schema": [
        {
         "metadata": "{}",
         "name": "cnt",
         "type": "\"long\""
        }
       ],
       "type": "table"
      }
     },
     "output_type": "display_data"
    }
   ],
   "source": [
    "%sql\n",
    "-- How many distinct types of calls were made to the fire department?\n",
    "SELECT COUNT(DISTINCT call_type) AS cnt FROM v_fire;"
   ]
  },
  {
   "cell_type": "code",
   "execution_count": null,
   "metadata": {
    "application/vnd.databricks.v1+cell": {
     "cellMetadata": {
      "byteLimit": 2048000,
      "implicitDf": true,
      "rowLimit": 10000
     },
     "inputWidgets": {},
     "nuid": "54395a4a-d0ec-4002-a0fe-453f99608b2e",
     "showTitle": false,
     "title": ""
    }
   },
   "outputs": [
    {
     "data": {
      "text/html": [
       "<style scoped>\n",
       "  .table-result-container {\n",
       "    max-height: 300px;\n",
       "    overflow: auto;\n",
       "  }\n",
       "  table, th, td {\n",
       "    border: 1px solid black;\n",
       "    border-collapse: collapse;\n",
       "  }\n",
       "  th, td {\n",
       "    padding: 5px;\n",
       "  }\n",
       "  th {\n",
       "    text-align: left;\n",
       "  }\n",
       "</style><div class='table-result-container'><table class='table-result'><thead style='background-color: white'><tr><th>call_type</th></tr></thead><tbody><tr><td>Elevator / Escalator Rescue</td></tr><tr><td>Aircraft Emergency</td></tr><tr><td>Structure Fire / Smoke in Building</td></tr><tr><td>Alarms</td></tr><tr><td>Odor (Strange / Unknown)</td></tr><tr><td>Citizen Assist / Service Call</td></tr><tr><td>HazMat</td></tr><tr><td>Watercraft in Distress</td></tr><tr><td>Explosion</td></tr><tr><td>Oil Spill</td></tr><tr><td>Vehicle Fire</td></tr><tr><td>Suspicious Package</td></tr><tr><td>Extrication / Entrapped (Machinery, Vehicle)</td></tr><tr><td>Other</td></tr><tr><td>Outside Fire</td></tr><tr><td>Traffic Collision</td></tr><tr><td>Assist Police</td></tr><tr><td>Gas Leak (Natural and LP Gases)</td></tr><tr><td>Water Rescue</td></tr><tr><td>Electrical Hazard</td></tr><tr><td>High Angle Rescue</td></tr><tr><td>Structure Fire</td></tr><tr><td>Industrial Accidents</td></tr><tr><td>Medical Incident</td></tr><tr><td>Mutual Aid / Assist Outside Agency</td></tr><tr><td>Fuel Spill</td></tr><tr><td>Smoke Investigation (Outside)</td></tr><tr><td>Train / Rail Incident</td></tr><tr><td>Administrative</td></tr><tr><td>Confined Space / Structure Collapse</td></tr><tr><td>Marine Fire</td></tr><tr><td>Train / Rail Fire</td></tr></tbody></table></div>"
      ]
     },
     "metadata": {
      "application/vnd.databricks.v1+output": {
       "addedWidgets": {},
       "aggData": [],
       "aggError": "",
       "aggOverflow": false,
       "aggSchema": [],
       "aggSeriesLimitReached": false,
       "aggType": "",
       "arguments": {},
       "columnCustomDisplayInfos": {},
       "data": [
        [
         "Elevator / Escalator Rescue"
        ],
        [
         "Aircraft Emergency"
        ],
        [
         "Structure Fire / Smoke in Building"
        ],
        [
         "Alarms"
        ],
        [
         "Odor (Strange / Unknown)"
        ],
        [
         "Citizen Assist / Service Call"
        ],
        [
         "HazMat"
        ],
        [
         "Watercraft in Distress"
        ],
        [
         "Explosion"
        ],
        [
         "Oil Spill"
        ],
        [
         "Vehicle Fire"
        ],
        [
         "Suspicious Package"
        ],
        [
         "Extrication / Entrapped (Machinery, Vehicle)"
        ],
        [
         "Other"
        ],
        [
         "Outside Fire"
        ],
        [
         "Traffic Collision"
        ],
        [
         "Assist Police"
        ],
        [
         "Gas Leak (Natural and LP Gases)"
        ],
        [
         "Water Rescue"
        ],
        [
         "Electrical Hazard"
        ],
        [
         "High Angle Rescue"
        ],
        [
         "Structure Fire"
        ],
        [
         "Industrial Accidents"
        ],
        [
         "Medical Incident"
        ],
        [
         "Mutual Aid / Assist Outside Agency"
        ],
        [
         "Fuel Spill"
        ],
        [
         "Smoke Investigation (Outside)"
        ],
        [
         "Train / Rail Incident"
        ],
        [
         "Administrative"
        ],
        [
         "Confined Space / Structure Collapse"
        ],
        [
         "Marine Fire"
        ],
        [
         "Train / Rail Fire"
        ]
       ],
       "datasetInfos": [],
       "dbfsResultPath": null,
       "isJsonSchema": true,
       "metadata": {
        "dataframeName": "_sqldf",
        "executionCount": 17
       },
       "overflow": false,
       "plotOptions": {
        "customPlotOptions": {},
        "displayType": "table",
        "pivotAggregation": null,
        "pivotColumns": null,
        "xColumns": null,
        "yColumns": null
       },
       "removedWidgets": [],
       "schema": [
        {
         "metadata": "{}",
         "name": "call_type",
         "type": "\"string\""
        }
       ],
       "type": "table"
      }
     },
     "output_type": "display_data"
    }
   ],
   "source": [
    "%sql\n",
    "-- What are distinct types of calls made to the fire department?\n",
    "SELECT DISTINCT call_type FROM v_fire;"
   ]
  },
  {
   "cell_type": "code",
   "execution_count": null,
   "metadata": {
    "application/vnd.databricks.v1+cell": {
     "cellMetadata": {
      "byteLimit": 2048000,
      "implicitDf": true,
      "rowLimit": 10000
     },
     "inputWidgets": {},
     "nuid": "4f18f570-3c9d-4d53-83e9-3036a2aa0e08",
     "showTitle": false,
     "title": ""
    }
   },
   "outputs": [
    {
     "data": {
      "text/html": [
       "<style scoped>\n",
       "  .table-result-container {\n",
       "    max-height: 300px;\n",
       "    overflow: auto;\n",
       "  }\n",
       "  table, th, td {\n",
       "    border: 1px solid black;\n",
       "    border-collapse: collapse;\n",
       "  }\n",
       "  th, td {\n",
       "    padding: 5px;\n",
       "  }\n",
       "  th {\n",
       "    text-align: left;\n",
       "  }\n",
       "</style><div class='table-result-container'><table class='table-result'><thead style='background-color: white'><tr><th>call_no</th><th>unit_id</th><th>incident_no</th><th>call_type</th><th>call_date</th><th>watch_date</th><th>received_dttm</th><th>entry_dttm</th><th>dispatch_dttm</th><th>response_dttm</th><th>onscene_dttm</th><th>transport_dttm</th><th>hospital_dttm</th><th>call_final_disp</th><th>available_dttm</th><th>address</th><th>city</th><th>zipcode</th><th>battalion</th><th>station_area</th><th>box</th><th>original_priority</th><th>priority</th><th>final_priority</th><th>ALS_unit</th><th>call_type_group</th><th>no_alarms</th><th>unit_type</th><th>unit_sequence</th><th>fire_prevention_dist</th><th>supervisor_dist</th><th>neighborhoods</th><th>rowid</th><th>case_location</th><th>data_as_of</th><th>data_loaded_at</th><th>analysis_neighbourhoods</th></tr></thead><tbody><tr><td>160743491</td><td>71</td><td>16029460</td><td>Medical Incident</td><td>03/14/2016</td><td>03/14/2016</td><td>03/14/2016 07:56:39 PM</td><td>03/14/2016 07:58:11 PM</td><td>03/14/2016 07:58:23 PM</td><td>03/14/2016 07:58:28 PM</td><td>03/14/2016 08:07:14 PM</td><td>03/14/2016 08:31:30 PM</td><td>03/14/2016 08:37:12 PM</td><td>Code 2 Transport</td><td>03/14/2016 09:15:04 PM</td><td>1100 Block of HOWARD ST</td><td>San Francisco</td><td>94103</td><td>B03</td><td>01</td><td>2314</td><td>2</td><td>2</td><td>2</td><td>true</td><td>Non Life-threatening</td><td>1</td><td>MEDIC</td><td>1</td><td>2</td><td>6</td><td>South of Market</td><td>160743491-71</td><td>POINT (-122.411359138357 37.776494480878)</td><td>null</td><td>11/30/2023 09:35:04 AM</td><td>34</td></tr><tr><td>141581925</td><td>AM06</td><td>14054458</td><td>Medical Incident</td><td>06/07/2014</td><td>06/07/2014</td><td>06/07/2014 02:53:07 PM</td><td>06/07/2014 02:53:07 PM</td><td>06/07/2014 02:55:06 PM</td><td>06/07/2014 02:55:39 PM</td><td>06/07/2014 03:00:07 PM</td><td>06/07/2014 03:14:44 PM</td><td>06/07/2014 03:28:23 PM</td><td>Code 2 Transport</td><td>06/07/2014 04:18:14 PM</td><td>800 Block of ELLIS ST</td><td>San Francisco</td><td>94109</td><td>B02</td><td>03</td><td>3115</td><td>2</td><td>2</td><td>2</td><td>false</td><td>Non Life-threatening</td><td>1</td><td>PRIVATE</td><td>1</td><td>2</td><td>6</td><td>Tenderloin</td><td>141581925-AM06</td><td>POINT (-122.420175524645 37.783872357642)</td><td>null</td><td>11/30/2023 09:35:04 AM</td><td>36</td></tr><tr><td>2530180</td><td>E16</td><td>75851</td><td>Structure Fire</td><td>09/09/2000</td><td>09/09/2000</td><td>09/09/2000 02:30:59 PM</td><td>09/09/2000 02:31:28 PM</td><td>09/09/2000 02:31:37 PM</td><td>09/09/2000 02:32:55 PM</td><td>09/09/2000 02:33:45 PM</td><td>null</td><td>null</td><td>Other</td><td>09/09/2000 03:13:03 PM</td><td>2900 Block of FILLMORE ST</td><td>SF</td><td>94123</td><td>B04</td><td>16</td><td>3552</td><td>3</td><td>3</td><td>3</td><td>false</td><td>null</td><td>1</td><td>ENGINE</td><td>1</td><td>4</td><td>2</td><td>Marina</td><td>002530180-E16</td><td>POINT (-122.4353274337 37.796632336083)</td><td>null</td><td>11/30/2023 09:35:04 AM</td><td>13</td></tr><tr><td>50530023</td><td>M14</td><td>5014228</td><td>Medical Incident</td><td>02/22/2005</td><td>02/21/2005</td><td>02/22/2005 01:32:32 AM</td><td>02/22/2005 01:35:25 AM</td><td>02/22/2005 01:35:35 AM</td><td>null</td><td>02/22/2005 01:37:31 AM</td><td>null</td><td>null</td><td>Patient Declined Transport</td><td>02/22/2005 02:02:07 AM</td><td>700 Block of 14TH AVE</td><td>SF</td><td>94118</td><td>B07</td><td>31</td><td>7155</td><td>3</td><td>3</td><td>3</td><td>true</td><td>null</td><td>1</td><td>MEDIC</td><td>1</td><td>7</td><td>1</td><td>Outer Richmond</td><td>050530023-M14</td><td>POINT (-122.472435000241 37.774043615423)</td><td>null</td><td>11/30/2023 09:35:04 AM</td><td>29</td></tr><tr><td>230393556</td><td>65</td><td>23019191</td><td>Medical Incident</td><td>02/08/2023</td><td>02/08/2023</td><td>02/08/2023 11:51:09 PM</td><td>02/08/2023 11:51:09 PM</td><td>02/08/2023 11:51:24 PM</td><td>02/08/2023 11:51:27 PM</td><td>02/09/2023 12:01:37 AM</td><td>02/09/2023 12:19:24 AM</td><td>02/09/2023 12:33:30 AM</td><td>Code 2 Transport</td><td>02/09/2023 12:58:06 AM</td><td>700 Block of CAPITOL AVE</td><td>San Francisco</td><td>94112</td><td>B09</td><td>33</td><td>8373</td><td>null</td><td>2</td><td>2</td><td>true</td><td>Non Life-threatening</td><td>1</td><td>MEDIC</td><td>1</td><td>9</td><td>11</td><td>Oceanview/Merced/Ingleside</td><td>230393556-65</td><td>POINT (-122.45913706005143 37.717028652276326)</td><td>null</td><td>11/30/2023 09:35:04 AM</td><td>24</td></tr></tbody></table></div>"
      ]
     },
     "metadata": {
      "application/vnd.databricks.v1+output": {
       "addedWidgets": {},
       "aggData": [],
       "aggError": "",
       "aggOverflow": false,
       "aggSchema": [],
       "aggSeriesLimitReached": false,
       "aggType": "",
       "arguments": {},
       "columnCustomDisplayInfos": {},
       "data": [
        [
         160743491,
         "71",
         16029460,
         "Medical Incident",
         "03/14/2016",
         "03/14/2016",
         "03/14/2016 07:56:39 PM",
         "03/14/2016 07:58:11 PM",
         "03/14/2016 07:58:23 PM",
         "03/14/2016 07:58:28 PM",
         "03/14/2016 08:07:14 PM",
         "03/14/2016 08:31:30 PM",
         "03/14/2016 08:37:12 PM",
         "Code 2 Transport",
         "03/14/2016 09:15:04 PM",
         "1100 Block of HOWARD ST",
         "San Francisco",
         94103,
         "B03",
         "01",
         2314,
         2,
         2,
         2,
         true,
         "Non Life-threatening",
         1,
         "MEDIC",
         1,
         2,
         6,
         "South of Market",
         "160743491-71",
         "POINT (-122.411359138357 37.776494480878)",
         null,
         "11/30/2023 09:35:04 AM",
         34
        ],
        [
         141581925,
         "AM06",
         14054458,
         "Medical Incident",
         "06/07/2014",
         "06/07/2014",
         "06/07/2014 02:53:07 PM",
         "06/07/2014 02:53:07 PM",
         "06/07/2014 02:55:06 PM",
         "06/07/2014 02:55:39 PM",
         "06/07/2014 03:00:07 PM",
         "06/07/2014 03:14:44 PM",
         "06/07/2014 03:28:23 PM",
         "Code 2 Transport",
         "06/07/2014 04:18:14 PM",
         "800 Block of ELLIS ST",
         "San Francisco",
         94109,
         "B02",
         "03",
         3115,
         2,
         2,
         2,
         false,
         "Non Life-threatening",
         1,
         "PRIVATE",
         1,
         2,
         6,
         "Tenderloin",
         "141581925-AM06",
         "POINT (-122.420175524645 37.783872357642)",
         null,
         "11/30/2023 09:35:04 AM",
         36
        ],
        [
         2530180,
         "E16",
         75851,
         "Structure Fire",
         "09/09/2000",
         "09/09/2000",
         "09/09/2000 02:30:59 PM",
         "09/09/2000 02:31:28 PM",
         "09/09/2000 02:31:37 PM",
         "09/09/2000 02:32:55 PM",
         "09/09/2000 02:33:45 PM",
         null,
         null,
         "Other",
         "09/09/2000 03:13:03 PM",
         "2900 Block of FILLMORE ST",
         "SF",
         94123,
         "B04",
         "16",
         3552,
         3,
         3,
         3,
         false,
         null,
         1,
         "ENGINE",
         1,
         4,
         2,
         "Marina",
         "002530180-E16",
         "POINT (-122.4353274337 37.796632336083)",
         null,
         "11/30/2023 09:35:04 AM",
         13
        ],
        [
         50530023,
         "M14",
         5014228,
         "Medical Incident",
         "02/22/2005",
         "02/21/2005",
         "02/22/2005 01:32:32 AM",
         "02/22/2005 01:35:25 AM",
         "02/22/2005 01:35:35 AM",
         null,
         "02/22/2005 01:37:31 AM",
         null,
         null,
         "Patient Declined Transport",
         "02/22/2005 02:02:07 AM",
         "700 Block of 14TH AVE",
         "SF",
         94118,
         "B07",
         "31",
         7155,
         3,
         3,
         3,
         true,
         null,
         1,
         "MEDIC",
         1,
         7,
         1,
         "Outer Richmond",
         "050530023-M14",
         "POINT (-122.472435000241 37.774043615423)",
         null,
         "11/30/2023 09:35:04 AM",
         29
        ],
        [
         230393556,
         "65",
         23019191,
         "Medical Incident",
         "02/08/2023",
         "02/08/2023",
         "02/08/2023 11:51:09 PM",
         "02/08/2023 11:51:09 PM",
         "02/08/2023 11:51:24 PM",
         "02/08/2023 11:51:27 PM",
         "02/09/2023 12:01:37 AM",
         "02/09/2023 12:19:24 AM",
         "02/09/2023 12:33:30 AM",
         "Code 2 Transport",
         "02/09/2023 12:58:06 AM",
         "700 Block of CAPITOL AVE",
         "San Francisco",
         94112,
         "B09",
         "33",
         8373,
         null,
         2,
         2,
         true,
         "Non Life-threatening",
         1,
         "MEDIC",
         1,
         9,
         11,
         "Oceanview/Merced/Ingleside",
         "230393556-65",
         "POINT (-122.45913706005143 37.717028652276326)",
         null,
         "11/30/2023 09:35:04 AM",
         24
        ]
       ],
       "datasetInfos": [],
       "dbfsResultPath": null,
       "isJsonSchema": true,
       "metadata": {
        "dataframeName": "_sqldf",
        "executionCount": 18
       },
       "overflow": false,
       "plotOptions": {
        "customPlotOptions": {},
        "displayType": "table",
        "pivotAggregation": null,
        "pivotColumns": null,
        "xColumns": null,
        "yColumns": null
       },
       "removedWidgets": [],
       "schema": [
        {
         "metadata": "{}",
         "name": "call_no",
         "type": "\"long\""
        },
        {
         "metadata": "{}",
         "name": "unit_id",
         "type": "\"string\""
        },
        {
         "metadata": "{}",
         "name": "incident_no",
         "type": "\"long\""
        },
        {
         "metadata": "{}",
         "name": "call_type",
         "type": "\"string\""
        },
        {
         "metadata": "{}",
         "name": "call_date",
         "type": "\"string\""
        },
        {
         "metadata": "{}",
         "name": "watch_date",
         "type": "\"string\""
        },
        {
         "metadata": "{}",
         "name": "received_dttm",
         "type": "\"string\""
        },
        {
         "metadata": "{}",
         "name": "entry_dttm",
         "type": "\"string\""
        },
        {
         "metadata": "{}",
         "name": "dispatch_dttm",
         "type": "\"string\""
        },
        {
         "metadata": "{}",
         "name": "response_dttm",
         "type": "\"string\""
        },
        {
         "metadata": "{}",
         "name": "onscene_dttm",
         "type": "\"string\""
        },
        {
         "metadata": "{}",
         "name": "transport_dttm",
         "type": "\"string\""
        },
        {
         "metadata": "{}",
         "name": "hospital_dttm",
         "type": "\"string\""
        },
        {
         "metadata": "{}",
         "name": "call_final_disp",
         "type": "\"string\""
        },
        {
         "metadata": "{}",
         "name": "available_dttm",
         "type": "\"string\""
        },
        {
         "metadata": "{}",
         "name": "address",
         "type": "\"string\""
        },
        {
         "metadata": "{}",
         "name": "city",
         "type": "\"string\""
        },
        {
         "metadata": "{}",
         "name": "zipcode",
         "type": "\"integer\""
        },
        {
         "metadata": "{}",
         "name": "battalion",
         "type": "\"string\""
        },
        {
         "metadata": "{}",
         "name": "station_area",
         "type": "\"string\""
        },
        {
         "metadata": "{}",
         "name": "box",
         "type": "\"integer\""
        },
        {
         "metadata": "{}",
         "name": "original_priority",
         "type": "\"short\""
        },
        {
         "metadata": "{}",
         "name": "priority",
         "type": "\"short\""
        },
        {
         "metadata": "{}",
         "name": "final_priority",
         "type": "\"short\""
        },
        {
         "metadata": "{}",
         "name": "ALS_unit",
         "type": "\"boolean\""
        },
        {
         "metadata": "{}",
         "name": "call_type_group",
         "type": "\"string\""
        },
        {
         "metadata": "{}",
         "name": "no_alarms",
         "type": "\"short\""
        },
        {
         "metadata": "{}",
         "name": "unit_type",
         "type": "\"string\""
        },
        {
         "metadata": "{}",
         "name": "unit_sequence",
         "type": "\"short\""
        },
        {
         "metadata": "{}",
         "name": "fire_prevention_dist",
         "type": "\"short\""
        },
        {
         "metadata": "{}",
         "name": "supervisor_dist",
         "type": "\"short\""
        },
        {
         "metadata": "{}",
         "name": "neighborhoods",
         "type": "\"string\""
        },
        {
         "metadata": "{}",
         "name": "rowid",
         "type": "\"string\""
        },
        {
         "metadata": "{}",
         "name": "case_location",
         "type": "\"string\""
        },
        {
         "metadata": "{}",
         "name": "data_as_of",
         "type": "\"string\""
        },
        {
         "metadata": "{}",
         "name": "data_loaded_at",
         "type": "\"string\""
        },
        {
         "metadata": "{}",
         "name": "analysis_neighbourhoods",
         "type": "\"short\""
        }
       ],
       "type": "table"
      }
     },
     "output_type": "display_data"
    }
   ],
   "source": [
    "%sql\n",
    "SELECT * FROM v_fire LIMIT 5;"
   ]
  },
  {
   "cell_type": "code",
   "execution_count": null,
   "metadata": {
    "application/vnd.databricks.v1+cell": {
     "cellMetadata": {
      "byteLimit": 2048000,
      "implicitDf": true,
      "rowLimit": 10000
     },
     "inputWidgets": {},
     "nuid": "3c94e5bb-f14c-418f-8fe5-940cbe683434",
     "showTitle": false,
     "title": ""
    }
   },
   "outputs": [
    {
     "data": {
      "text/html": [
       "<style scoped>\n",
       "  .table-result-container {\n",
       "    max-height: 300px;\n",
       "    overflow: auto;\n",
       "  }\n",
       "  table, th, td {\n",
       "    border: 1px solid black;\n",
       "    border-collapse: collapse;\n",
       "  }\n",
       "  th, td {\n",
       "    padding: 5px;\n",
       "  }\n",
       "  th {\n",
       "    text-align: left;\n",
       "  }\n",
       "</style><div class='table-result-container'><table class='table-result'><thead style='background-color: white'><tr><th>call_final_disp</th></tr></thead><tbody><tr><td>Medical Examiner</td></tr><tr><td>No Merit</td></tr><tr><td>Patient Declined Transport</td></tr><tr><td>Gone on Arrival</td></tr><tr><td>Unable to Locate</td></tr><tr><td>Cancelled</td></tr><tr><td>SFPD</td></tr><tr><td>Other</td></tr><tr><td>Against Medical Advice</td></tr><tr><td>Code 3 Transport</td></tr><tr><td>Fire</td></tr><tr><td>Code 2 Transport</td></tr><tr><td>Duplicate</td></tr><tr><td>Multi-casualty Incident</td></tr><tr><td>CHP</td></tr></tbody></table></div>"
      ]
     },
     "metadata": {
      "application/vnd.databricks.v1+output": {
       "addedWidgets": {},
       "aggData": [],
       "aggError": "",
       "aggOverflow": false,
       "aggSchema": [],
       "aggSeriesLimitReached": false,
       "aggType": "",
       "arguments": {},
       "columnCustomDisplayInfos": {},
       "data": [
        [
         "Medical Examiner"
        ],
        [
         "No Merit"
        ],
        [
         "Patient Declined Transport"
        ],
        [
         "Gone on Arrival"
        ],
        [
         "Unable to Locate"
        ],
        [
         "Cancelled"
        ],
        [
         "SFPD"
        ],
        [
         "Other"
        ],
        [
         "Against Medical Advice"
        ],
        [
         "Code 3 Transport"
        ],
        [
         "Fire"
        ],
        [
         "Code 2 Transport"
        ],
        [
         "Duplicate"
        ],
        [
         "Multi-casualty Incident"
        ],
        [
         "CHP"
        ]
       ],
       "datasetInfos": [],
       "dbfsResultPath": null,
       "isJsonSchema": true,
       "metadata": {
        "dataframeName": "_sqldf",
        "executionCount": 35
       },
       "overflow": false,
       "plotOptions": {
        "customPlotOptions": {},
        "displayType": "table",
        "pivotAggregation": null,
        "pivotColumns": null,
        "xColumns": null,
        "yColumns": null
       },
       "removedWidgets": [],
       "schema": [
        {
         "metadata": "{}",
         "name": "call_final_disp",
         "type": "\"string\""
        }
       ],
       "type": "table"
      }
     },
     "output_type": "display_data"
    }
   ],
   "source": [
    "%sql\n",
    "-- Find out all responses for delayed times greater than 5 mins?\n",
    "SELECT DISTINCT call_final_disp FROM v_fire \n",
    "WHERE date_diff(MINUTE,received_ts,response_ts)>5;\n"
   ]
  },
  {
   "cell_type": "code",
   "execution_count": null,
   "metadata": {
    "application/vnd.databricks.v1+cell": {
     "cellMetadata": {
      "byteLimit": 2048000,
      "implicitDf": true,
      "rowLimit": 10000
     },
     "inputWidgets": {},
     "nuid": "bfa13769-d42b-47e0-97a0-621fae5fce62",
     "showTitle": false,
     "title": ""
    }
   },
   "outputs": [
    {
     "data": {
      "text/html": [
       "<style scoped>\n",
       "  .table-result-container {\n",
       "    max-height: 300px;\n",
       "    overflow: auto;\n",
       "  }\n",
       "  table, th, td {\n",
       "    border: 1px solid black;\n",
       "    border-collapse: collapse;\n",
       "  }\n",
       "  th, td {\n",
       "    padding: 5px;\n",
       "  }\n",
       "  th {\n",
       "    text-align: left;\n",
       "  }\n",
       "</style><div class='table-result-container'><table class='table-result'><thead style='background-color: white'><tr><th>call_type</th></tr></thead><tbody><tr><td>Medical Incident</td></tr><tr><td>Alarms</td></tr><tr><td>Structure Fire</td></tr><tr><td>Traffic Collision</td></tr><tr><td>Other</td></tr><tr><td>Citizen Assist / Service Call</td></tr><tr><td>Outside Fire</td></tr><tr><td>Water Rescue</td></tr><tr><td>Gas Leak (Natural and LP Gases)</td></tr><tr><td>Vehicle Fire</td></tr></tbody></table></div>"
      ]
     },
     "metadata": {
      "application/vnd.databricks.v1+output": {
       "addedWidgets": {},
       "aggData": [],
       "aggError": "",
       "aggOverflow": false,
       "aggSchema": [],
       "aggSeriesLimitReached": false,
       "aggType": "",
       "arguments": {},
       "columnCustomDisplayInfos": {},
       "data": [
        [
         "Medical Incident"
        ],
        [
         "Alarms"
        ],
        [
         "Structure Fire"
        ],
        [
         "Traffic Collision"
        ],
        [
         "Other"
        ],
        [
         "Citizen Assist / Service Call"
        ],
        [
         "Outside Fire"
        ],
        [
         "Water Rescue"
        ],
        [
         "Gas Leak (Natural and LP Gases)"
        ],
        [
         "Vehicle Fire"
        ]
       ],
       "datasetInfos": [],
       "dbfsResultPath": null,
       "isJsonSchema": true,
       "metadata": {
        "dataframeName": "_sqldf",
        "executionCount": 24
       },
       "overflow": false,
       "plotOptions": {
        "customPlotOptions": {},
        "displayType": "table",
        "pivotAggregation": null,
        "pivotColumns": null,
        "xColumns": null,
        "yColumns": null
       },
       "removedWidgets": [],
       "schema": [
        {
         "metadata": "{}",
         "name": "call_type",
         "type": "\"string\""
        }
       ],
       "type": "table"
      }
     },
     "output_type": "display_data"
    }
   ],
   "source": [
    "%sql\n",
    "-- 4. What were the most common call types?\n",
    "SELECT call_type FROM v_fire GROUP BY call_type ORDER BY COUNT(call_type) DESC LIMIT 10;\n"
   ]
  },
  {
   "cell_type": "code",
   "execution_count": null,
   "metadata": {
    "application/vnd.databricks.v1+cell": {
     "cellMetadata": {
      "byteLimit": 2048000,
      "implicitDf": true,
      "rowLimit": 10000
     },
     "inputWidgets": {},
     "nuid": "52f2f60e-c10c-43c0-b9f5-c6d4b70dde00",
     "showTitle": false,
     "title": ""
    }
   },
   "outputs": [
    {
     "data": {
      "text/html": [
       "<style scoped>\n",
       "  .table-result-container {\n",
       "    max-height: 300px;\n",
       "    overflow: auto;\n",
       "  }\n",
       "  table, th, td {\n",
       "    border: 1px solid black;\n",
       "    border-collapse: collapse;\n",
       "  }\n",
       "  th, td {\n",
       "    padding: 5px;\n",
       "  }\n",
       "  th {\n",
       "    text-align: left;\n",
       "  }\n",
       "</style><div class='table-result-container'><table class='table-result'><thead style='background-color: white'><tr><th>zipcode</th><th>call_type</th><th>count(call_type)</th></tr></thead><tbody><tr><td>94102</td><td>Medical Incident</td><td>9671</td></tr><tr><td>94103</td><td>Medical Incident</td><td>8909</td></tr><tr><td>94109</td><td>Medical Incident</td><td>5818</td></tr><tr><td>94110</td><td>Medical Incident</td><td>5652</td></tr><tr><td>94124</td><td>Medical Incident</td><td>3356</td></tr><tr><td>94112</td><td>Medical Incident</td><td>3263</td></tr><tr><td>94115</td><td>Medical Incident</td><td>2776</td></tr><tr><td>94107</td><td>Medical Incident</td><td>2357</td></tr><tr><td>94122</td><td>Medical Incident</td><td>2330</td></tr><tr><td>94133</td><td>Medical Incident</td><td>2215</td></tr></tbody></table></div>"
      ]
     },
     "metadata": {
      "application/vnd.databricks.v1+output": {
       "addedWidgets": {},
       "aggData": [],
       "aggError": "",
       "aggOverflow": false,
       "aggSchema": [],
       "aggSeriesLimitReached": false,
       "aggType": "",
       "arguments": {},
       "columnCustomDisplayInfos": {},
       "data": [
        [
         94102,
         "Medical Incident",
         9671
        ],
        [
         94103,
         "Medical Incident",
         8909
        ],
        [
         94109,
         "Medical Incident",
         5818
        ],
        [
         94110,
         "Medical Incident",
         5652
        ],
        [
         94124,
         "Medical Incident",
         3356
        ],
        [
         94112,
         "Medical Incident",
         3263
        ],
        [
         94115,
         "Medical Incident",
         2776
        ],
        [
         94107,
         "Medical Incident",
         2357
        ],
        [
         94122,
         "Medical Incident",
         2330
        ],
        [
         94133,
         "Medical Incident",
         2215
        ]
       ],
       "datasetInfos": [],
       "dbfsResultPath": null,
       "isJsonSchema": true,
       "metadata": {
        "dataframeName": "_sqldf",
        "executionCount": 25
       },
       "overflow": false,
       "plotOptions": {
        "customPlotOptions": {},
        "displayType": "table",
        "pivotAggregation": null,
        "pivotColumns": null,
        "xColumns": null,
        "yColumns": null
       },
       "removedWidgets": [],
       "schema": [
        {
         "metadata": "{}",
         "name": "zipcode",
         "type": "\"integer\""
        },
        {
         "metadata": "{}",
         "name": "call_type",
         "type": "\"string\""
        },
        {
         "metadata": "{\"__autoGeneratedAlias\":\"true\"}",
         "name": "count(call_type)",
         "type": "\"long\""
        }
       ],
       "type": "table"
      }
     },
     "output_type": "display_data"
    }
   ],
   "source": [
    "%sql\n",
    "-- 5. What zip codes accounted for the most common calls?\n",
    "SELECT zipcode, call_type, COUNT(call_type) FROM v_fire GROUP BY zipcode, call_type ORDER BY 3 DESC LIMIT 10;"
   ]
  },
  {
   "cell_type": "code",
   "execution_count": null,
   "metadata": {
    "application/vnd.databricks.v1+cell": {
     "cellMetadata": {
      "byteLimit": 2048000,
      "implicitDf": true,
      "rowLimit": 10000
     },
     "inputWidgets": {},
     "nuid": "ef3d76fb-d295-4d59-a797-3b7a8c19529d",
     "showTitle": false,
     "title": ""
    }
   },
   "outputs": [
    {
     "data": {
      "text/html": [
       "<style scoped>\n",
       "  .table-result-container {\n",
       "    max-height: 300px;\n",
       "    overflow: auto;\n",
       "  }\n",
       "  table, th, td {\n",
       "    border: 1px solid black;\n",
       "    border-collapse: collapse;\n",
       "  }\n",
       "  th, td {\n",
       "    padding: 5px;\n",
       "  }\n",
       "  th {\n",
       "    text-align: left;\n",
       "  }\n",
       "</style><div class='table-result-container'><table class='table-result'><thead style='background-color: white'><tr><th>neighborhoods</th></tr></thead><tbody><tr><td>Western Addition</td></tr><tr><td>Mission Bay</td></tr><tr><td>Hayes Valley</td></tr><tr><td>Financial District/South Beach</td></tr><tr><td>Nob Hill</td></tr><tr><td>Mission</td></tr><tr><td>Tenderloin</td></tr><tr><td>Potrero Hill</td></tr><tr><td>Castro/Upper Market</td></tr><tr><td>South of Market</td></tr></tbody></table></div>"
      ]
     },
     "metadata": {
      "application/vnd.databricks.v1+output": {
       "addedWidgets": {},
       "aggData": [],
       "aggError": "",
       "aggOverflow": false,
       "aggSchema": [],
       "aggSeriesLimitReached": false,
       "aggType": "",
       "arguments": {},
       "columnCustomDisplayInfos": {},
       "data": [
        [
         "Western Addition"
        ],
        [
         "Mission Bay"
        ],
        [
         "Hayes Valley"
        ],
        [
         "Financial District/South Beach"
        ],
        [
         "Nob Hill"
        ],
        [
         "Mission"
        ],
        [
         "Tenderloin"
        ],
        [
         "Potrero Hill"
        ],
        [
         "Castro/Upper Market"
        ],
        [
         "South of Market"
        ]
       ],
       "datasetInfos": [],
       "dbfsResultPath": null,
       "isJsonSchema": true,
       "metadata": {
        "dataframeName": "_sqldf",
        "executionCount": 26
       },
       "overflow": false,
       "plotOptions": {
        "customPlotOptions": {},
        "displayType": "table",
        "pivotAggregation": null,
        "pivotColumns": null,
        "xColumns": null,
        "yColumns": null
       },
       "removedWidgets": [],
       "schema": [
        {
         "metadata": "{}",
         "name": "neighborhoods",
         "type": "\"string\""
        }
       ],
       "type": "table"
      }
     },
     "output_type": "display_data"
    }
   ],
   "source": [
    "%sql\n",
    "-- 6. What San Francisco neighborhoods are in the zip codes 94102 and 94103?\n",
    "SELECT DISTINCT neighborhoods FROM v_fire WHERE city = \"San Francisco\" AND zipcode IN (94102,94103);"
   ]
  },
  {
   "cell_type": "code",
   "execution_count": null,
   "metadata": {
    "application/vnd.databricks.v1+cell": {
     "cellMetadata": {
      "byteLimit": 2048000,
      "implicitDf": true,
      "rowLimit": 10000
     },
     "inputWidgets": {},
     "nuid": "4b3770ee-8f1f-4b6c-ae25-465960627a1c",
     "showTitle": false,
     "title": ""
    }
   },
   "outputs": [
    {
     "data": {
      "text/html": [
       "<style scoped>\n",
       "  .table-result-container {\n",
       "    max-height: 300px;\n",
       "    overflow: auto;\n",
       "  }\n",
       "  table, th, td {\n",
       "    border: 1px solid black;\n",
       "    border-collapse: collapse;\n",
       "  }\n",
       "  th, td {\n",
       "    padding: 5px;\n",
       "  }\n",
       "  th {\n",
       "    text-align: left;\n",
       "  }\n",
       "</style><div class='table-result-container'><table class='table-result'><thead style='background-color: white'><tr><th>sum</th><th>avg</th><th>min</th><th>max</th></tr></thead><tbody><tr><td>325101</td><td>3.489368781461645</td><td>0</td><td>1375</td></tr></tbody></table></div>"
      ]
     },
     "metadata": {
      "application/vnd.databricks.v1+output": {
       "addedWidgets": {},
       "aggData": [],
       "aggError": "",
       "aggOverflow": false,
       "aggSchema": [],
       "aggSeriesLimitReached": false,
       "aggType": "",
       "arguments": {},
       "columnCustomDisplayInfos": {},
       "data": [
        [
         325101,
         3.489368781461645,
         0,
         1375
        ]
       ],
       "datasetInfos": [],
       "dbfsResultPath": null,
       "isJsonSchema": true,
       "metadata": {
        "dataframeName": "_sqldf",
        "executionCount": 34
       },
       "overflow": false,
       "plotOptions": {
        "customPlotOptions": {},
        "displayType": "table",
        "pivotAggregation": null,
        "pivotColumns": null,
        "xColumns": null,
        "yColumns": null
       },
       "removedWidgets": [],
       "schema": [
        {
         "metadata": "{}",
         "name": "sum",
         "type": "\"long\""
        },
        {
         "metadata": "{}",
         "name": "avg",
         "type": "\"double\""
        },
        {
         "metadata": "{}",
         "name": "min",
         "type": "\"long\""
        },
        {
         "metadata": "{}",
         "name": "max",
         "type": "\"long\""
        }
       ],
       "type": "table"
      }
     },
     "output_type": "display_data"
    }
   ],
   "source": [
    "%sql\n",
    "-- 7. What was the sum of all calls, average, min, and max of the call response times?\n",
    "SELECT SUM(date_diff(MINUTE,received_ts,response_ts)) sum,\n",
    "AVG(date_diff(MINUTE,received_ts,response_ts)) avg,\n",
    "MIN(date_diff(MINUTE,received_ts,response_ts)) min,\n",
    "MAX(date_diff(MINUTE,received_ts,response_ts)) max \n",
    "FROM v_fire;\n"
   ]
  },
  {
   "cell_type": "code",
   "execution_count": null,
   "metadata": {
    "application/vnd.databricks.v1+cell": {
     "cellMetadata": {
      "byteLimit": 2048000,
      "implicitDf": true,
      "rowLimit": 10000
     },
     "inputWidgets": {},
     "nuid": "616378b8-d154-4e79-af6f-5de6d75e7aa3",
     "showTitle": false,
     "title": ""
    }
   },
   "outputs": [
    {
     "data": {
      "text/html": [
       "<style scoped>\n",
       "  .table-result-container {\n",
       "    max-height: 300px;\n",
       "    overflow: auto;\n",
       "  }\n",
       "  table, th, td {\n",
       "    border: 1px solid black;\n",
       "    border-collapse: collapse;\n",
       "  }\n",
       "  th, td {\n",
       "    padding: 5px;\n",
       "  }\n",
       "  th {\n",
       "    text-align: left;\n",
       "  }\n",
       "</style><div class='table-result-container'><table class='table-result'><thead style='background-color: white'><tr><th>year_cnt</th></tr></thead><tbody><tr><td>24</td></tr></tbody></table></div>"
      ]
     },
     "metadata": {
      "application/vnd.databricks.v1+output": {
       "addedWidgets": {},
       "aggData": [],
       "aggError": "",
       "aggOverflow": false,
       "aggSchema": [],
       "aggSeriesLimitReached": false,
       "aggType": "",
       "arguments": {},
       "columnCustomDisplayInfos": {},
       "data": [
        [
         24
        ]
       ],
       "datasetInfos": [],
       "dbfsResultPath": null,
       "isJsonSchema": true,
       "metadata": {
        "dataframeName": "_sqldf",
        "executionCount": 36
       },
       "overflow": false,
       "plotOptions": {
        "customPlotOptions": {},
        "displayType": "table",
        "pivotAggregation": null,
        "pivotColumns": null,
        "xColumns": null,
        "yColumns": null
       },
       "removedWidgets": [],
       "schema": [
        {
         "metadata": "{}",
         "name": "year_cnt",
         "type": "\"long\""
        }
       ],
       "type": "table"
      }
     },
     "output_type": "display_data"
    }
   ],
   "source": [
    "%sql\n",
    "-- 8. How many distinct years of data are in the CSV le?\n",
    "\n",
    "SELECT COUNT(DISTINCT YEAR(call_date_ts)) year_cnt FROM v_fire;"
   ]
  },
  {
   "cell_type": "code",
   "execution_count": null,
   "metadata": {
    "application/vnd.databricks.v1+cell": {
     "cellMetadata": {
      "byteLimit": 2048000,
      "implicitDf": true,
      "rowLimit": 10000
     },
     "inputWidgets": {},
     "nuid": "4d2f918c-bf10-4191-987a-cd987fd355d4",
     "showTitle": false,
     "title": ""
    }
   },
   "outputs": [
    {
     "data": {
      "text/html": [
       "<style scoped>\n",
       "  .table-result-container {\n",
       "    max-height: 300px;\n",
       "    overflow: auto;\n",
       "  }\n",
       "  table, th, td {\n",
       "    border: 1px solid black;\n",
       "    border-collapse: collapse;\n",
       "  }\n",
       "  th, td {\n",
       "    padding: 5px;\n",
       "  }\n",
       "  th {\n",
       "    text-align: left;\n",
       "  }\n",
       "</style><div class='table-result-container'><table class='table-result'><thead style='background-color: white'><tr><th>week</th><th>cnt</th></tr></thead><tbody><tr><td>1</td><td>121</td></tr></tbody></table></div>"
      ]
     },
     "metadata": {
      "application/vnd.databricks.v1+output": {
       "addedWidgets": {},
       "aggData": [],
       "aggError": "",
       "aggOverflow": false,
       "aggSchema": [],
       "aggSeriesLimitReached": false,
       "aggType": "",
       "arguments": {},
       "columnCustomDisplayInfos": {},
       "data": [
        [
         1,
         121
        ]
       ],
       "datasetInfos": [],
       "dbfsResultPath": null,
       "isJsonSchema": true,
       "metadata": {
        "dataframeName": "_sqldf",
        "executionCount": 40
       },
       "overflow": false,
       "plotOptions": {
        "customPlotOptions": {},
        "displayType": "table",
        "pivotAggregation": null,
        "pivotColumns": null,
        "xColumns": null,
        "yColumns": null
       },
       "removedWidgets": [],
       "schema": [
        {
         "metadata": "{}",
         "name": "week",
         "type": "\"integer\""
        },
        {
         "metadata": "{}",
         "name": "cnt",
         "type": "\"long\""
        }
       ],
       "type": "table"
      }
     },
     "output_type": "display_data"
    }
   ],
   "source": [
    "%sql\n",
    "-- 9. What week of the year in 2018 had the most re calls?\n",
    "SELECT WEEKOFYEAR(call_date_ts) week, COUNT(call_no) cnt FROM v_fire \n",
    "WHERE YEAR(call_date_ts) = 2018 GROUP BY WEEKOFYEAR(call_date_ts) ORDER BY 2 DESC LIMIT 1;\n"
   ]
  },
  {
   "cell_type": "code",
   "execution_count": null,
   "metadata": {
    "application/vnd.databricks.v1+cell": {
     "cellMetadata": {
      "byteLimit": 2048000,
      "implicitDf": true,
      "rowLimit": 10000
     },
     "inputWidgets": {},
     "nuid": "75cc8937-25c6-42eb-b612-5494571d90c8",
     "showTitle": false,
     "title": ""
    }
   },
   "outputs": [
    {
     "data": {
      "text/html": [
       "<style scoped>\n",
       "  .table-result-container {\n",
       "    max-height: 300px;\n",
       "    overflow: auto;\n",
       "  }\n",
       "  table, th, td {\n",
       "    border: 1px solid black;\n",
       "    border-collapse: collapse;\n",
       "  }\n",
       "  th, td {\n",
       "    padding: 5px;\n",
       "  }\n",
       "  th {\n",
       "    text-align: left;\n",
       "  }\n",
       "</style><div class='table-result-container'><table class='table-result'><thead style='background-color: white'><tr><th>neighborhoods</th><th>response_time</th></tr></thead><tbody><tr><td>Financial District/South Beach</td><td>24559</td></tr><tr><td>Tenderloin</td><td>20429</td></tr><tr><td>Inner Sunset</td><td>10177</td></tr></tbody></table></div>"
      ]
     },
     "metadata": {
      "application/vnd.databricks.v1+output": {
       "addedWidgets": {},
       "aggData": [],
       "aggError": "",
       "aggOverflow": false,
       "aggSchema": [],
       "aggSeriesLimitReached": false,
       "aggType": "",
       "arguments": {},
       "columnCustomDisplayInfos": {},
       "data": [
        [
         "Financial District/South Beach",
         24559
        ],
        [
         "Tenderloin",
         20429
        ],
        [
         "Inner Sunset",
         10177
        ]
       ],
       "datasetInfos": [],
       "dbfsResultPath": null,
       "isJsonSchema": true,
       "metadata": {
        "dataframeName": "_sqldf",
        "executionCount": 51
       },
       "overflow": false,
       "plotOptions": {
        "customPlotOptions": {},
        "displayType": "table",
        "pivotAggregation": null,
        "pivotColumns": null,
        "xColumns": null,
        "yColumns": null
       },
       "removedWidgets": [],
       "schema": [
        {
         "metadata": "{}",
         "name": "neighborhoods",
         "type": "\"string\""
        },
        {
         "metadata": "{}",
         "name": "response_time",
         "type": "\"long\""
        }
       ],
       "type": "table"
      }
     },
     "output_type": "display_data"
    }
   ],
   "source": [
    "%sql\n",
    "-- 10. What neighborhoods in San Francisco had the worst response time in 2018?\n",
    "SELECT DISTINCT neighborhoods, (unix_timestamp(response_ts) - unix_timestamp(received_ts)) AS response_time FROM v_fire \n",
    "WHERE city = \"San Francisco\" AND YEAR(call_date_ts) = 2018 ORDER BY 2 DESC LIMIT 3;"
   ]
  },
  {
   "cell_type": "code",
   "execution_count": null,
   "metadata": {
    "application/vnd.databricks.v1+cell": {
     "cellMetadata": {},
     "inputWidgets": {},
     "nuid": "4e693fde-6394-497e-8ffa-0bae0e4ff871",
     "showTitle": false,
     "title": ""
    }
   },
   "outputs": [],
   "source": []
  }
 ],
 "metadata": {
  "application/vnd.databricks.v1+notebook": {
   "dashboards": [],
   "environmentMetadata": null,
   "language": "python",
   "notebookMetadata": {
    "mostRecentlyExecutedCommandWithImplicitDF": {
     "commandId": 1170624766594473,
     "dataframes": [
      "_sqldf"
     ]
    },
    "pythonIndentUnit": 4
   },
   "notebookName": "Fire_data_analysis",
   "widgets": {}
  },
  "kernelspec": {
   "display_name": "Python 3 (ipykernel)",
   "language": "python",
   "name": "python3"
  },
  "language_info": {
   "codemirror_mode": {
    "name": "ipython",
    "version": 3
   },
   "file_extension": ".py",
   "mimetype": "text/x-python",
   "name": "python",
   "nbconvert_exporter": "python",
   "pygments_lexer": "ipython3",
   "version": "3.10.12"
  }
 },
 "nbformat": 4,
 "nbformat_minor": 4
}
